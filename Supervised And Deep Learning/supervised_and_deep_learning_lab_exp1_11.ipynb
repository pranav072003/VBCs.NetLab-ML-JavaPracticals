{
  "cells": [
    {
      "cell_type": "code",
      "source": [
        "import numpy as np\n",
        "import pandas as pd\n",
        "from sklearn.datasets import load_iris\n",
        "import matplotlib.pyplot as plt\n",
        "from math import *\n",
        "%matplotlib inline"
      ],
      "metadata": {
        "id": "-Cjv5_4guN-d"
      },
      "execution_count": 1,
      "outputs": []
    },
    {
      "cell_type": "code",
      "source": [
        "iris = load_iris()\n",
        "print(iris.keys())\n",
        "iris_df = pd.DataFrame(iris['data'], columns=iris['feature_names'])\n",
        "iris_df.target = iris.target"
      ],
      "metadata": {
        "colab": {
          "base_uri": "https://localhost:8080/"
        },
        "id": "dqrrn6tysRYe",
        "outputId": "85cdd576-fa66-4a9a-a184-1430823c0c92"
      },
      "execution_count": 2,
      "outputs": [
        {
          "output_type": "stream",
          "name": "stdout",
          "text": [
            "dict_keys(['data', 'target', 'frame', 'target_names', 'DESCR', 'feature_names', 'filename', 'data_module'])\n"
          ]
        },
        {
          "output_type": "stream",
          "name": "stderr",
          "text": [
            "<ipython-input-2-2c29625c0a86>:4: UserWarning: Pandas doesn't allow columns to be created via a new attribute name - see https://pandas.pydata.org/pandas-docs/stable/indexing.html#attribute-access\n",
            "  iris_df.target = iris.target\n"
          ]
        }
      ]
    },
    {
      "cell_type": "code",
      "source": [
        "iris['target']"
      ],
      "metadata": {
        "colab": {
          "base_uri": "https://localhost:8080/"
        },
        "id": "vYZYP3MBvOUN",
        "outputId": "9f4663d3-1fb8-4da4-f942-44cea57af775"
      },
      "execution_count": 3,
      "outputs": [
        {
          "output_type": "execute_result",
          "data": {
            "text/plain": [
              "array([0, 0, 0, 0, 0, 0, 0, 0, 0, 0, 0, 0, 0, 0, 0, 0, 0, 0, 0, 0, 0, 0,\n",
              "       0, 0, 0, 0, 0, 0, 0, 0, 0, 0, 0, 0, 0, 0, 0, 0, 0, 0, 0, 0, 0, 0,\n",
              "       0, 0, 0, 0, 0, 0, 1, 1, 1, 1, 1, 1, 1, 1, 1, 1, 1, 1, 1, 1, 1, 1,\n",
              "       1, 1, 1, 1, 1, 1, 1, 1, 1, 1, 1, 1, 1, 1, 1, 1, 1, 1, 1, 1, 1, 1,\n",
              "       1, 1, 1, 1, 1, 1, 1, 1, 1, 1, 1, 1, 2, 2, 2, 2, 2, 2, 2, 2, 2, 2,\n",
              "       2, 2, 2, 2, 2, 2, 2, 2, 2, 2, 2, 2, 2, 2, 2, 2, 2, 2, 2, 2, 2, 2,\n",
              "       2, 2, 2, 2, 2, 2, 2, 2, 2, 2, 2, 2, 2, 2, 2, 2, 2, 2])"
            ]
          },
          "metadata": {},
          "execution_count": 3
        }
      ]
    },
    {
      "cell_type": "code",
      "source": [
        "iris_df.head()  # display extracted dataset"
      ],
      "metadata": {
        "colab": {
          "base_uri": "https://localhost:8080/",
          "height": 206
        },
        "id": "ZRlfSVNNsvcf",
        "outputId": "863af169-56c1-4a7e-c61a-01dac5d6ed97"
      },
      "execution_count": 4,
      "outputs": [
        {
          "output_type": "execute_result",
          "data": {
            "text/plain": [
              "   sepal length (cm)  sepal width (cm)  petal length (cm)  petal width (cm)\n",
              "0                5.1               3.5                1.4               0.2\n",
              "1                4.9               3.0                1.4               0.2\n",
              "2                4.7               3.2                1.3               0.2\n",
              "3                4.6               3.1                1.5               0.2\n",
              "4                5.0               3.6                1.4               0.2"
            ],
            "text/html": [
              "\n",
              "  <div id=\"df-440e0d4b-dc61-4745-8b3d-5da1d6bf5b06\" class=\"colab-df-container\">\n",
              "    <div>\n",
              "<style scoped>\n",
              "    .dataframe tbody tr th:only-of-type {\n",
              "        vertical-align: middle;\n",
              "    }\n",
              "\n",
              "    .dataframe tbody tr th {\n",
              "        vertical-align: top;\n",
              "    }\n",
              "\n",
              "    .dataframe thead th {\n",
              "        text-align: right;\n",
              "    }\n",
              "</style>\n",
              "<table border=\"1\" class=\"dataframe\">\n",
              "  <thead>\n",
              "    <tr style=\"text-align: right;\">\n",
              "      <th></th>\n",
              "      <th>sepal length (cm)</th>\n",
              "      <th>sepal width (cm)</th>\n",
              "      <th>petal length (cm)</th>\n",
              "      <th>petal width (cm)</th>\n",
              "    </tr>\n",
              "  </thead>\n",
              "  <tbody>\n",
              "    <tr>\n",
              "      <th>0</th>\n",
              "      <td>5.1</td>\n",
              "      <td>3.5</td>\n",
              "      <td>1.4</td>\n",
              "      <td>0.2</td>\n",
              "    </tr>\n",
              "    <tr>\n",
              "      <th>1</th>\n",
              "      <td>4.9</td>\n",
              "      <td>3.0</td>\n",
              "      <td>1.4</td>\n",
              "      <td>0.2</td>\n",
              "    </tr>\n",
              "    <tr>\n",
              "      <th>2</th>\n",
              "      <td>4.7</td>\n",
              "      <td>3.2</td>\n",
              "      <td>1.3</td>\n",
              "      <td>0.2</td>\n",
              "    </tr>\n",
              "    <tr>\n",
              "      <th>3</th>\n",
              "      <td>4.6</td>\n",
              "      <td>3.1</td>\n",
              "      <td>1.5</td>\n",
              "      <td>0.2</td>\n",
              "    </tr>\n",
              "    <tr>\n",
              "      <th>4</th>\n",
              "      <td>5.0</td>\n",
              "      <td>3.6</td>\n",
              "      <td>1.4</td>\n",
              "      <td>0.2</td>\n",
              "    </tr>\n",
              "  </tbody>\n",
              "</table>\n",
              "</div>\n",
              "    <div class=\"colab-df-buttons\">\n",
              "\n",
              "  <div class=\"colab-df-container\">\n",
              "    <button class=\"colab-df-convert\" onclick=\"convertToInteractive('df-440e0d4b-dc61-4745-8b3d-5da1d6bf5b06')\"\n",
              "            title=\"Convert this dataframe to an interactive table.\"\n",
              "            style=\"display:none;\">\n",
              "\n",
              "  <svg xmlns=\"http://www.w3.org/2000/svg\" height=\"24px\" viewBox=\"0 -960 960 960\">\n",
              "    <path d=\"M120-120v-720h720v720H120Zm60-500h600v-160H180v160Zm220 220h160v-160H400v160Zm0 220h160v-160H400v160ZM180-400h160v-160H180v160Zm440 0h160v-160H620v160ZM180-180h160v-160H180v160Zm440 0h160v-160H620v160Z\"/>\n",
              "  </svg>\n",
              "    </button>\n",
              "\n",
              "  <style>\n",
              "    .colab-df-container {\n",
              "      display:flex;\n",
              "      gap: 12px;\n",
              "    }\n",
              "\n",
              "    .colab-df-convert {\n",
              "      background-color: #E8F0FE;\n",
              "      border: none;\n",
              "      border-radius: 50%;\n",
              "      cursor: pointer;\n",
              "      display: none;\n",
              "      fill: #1967D2;\n",
              "      height: 32px;\n",
              "      padding: 0 0 0 0;\n",
              "      width: 32px;\n",
              "    }\n",
              "\n",
              "    .colab-df-convert:hover {\n",
              "      background-color: #E2EBFA;\n",
              "      box-shadow: 0px 1px 2px rgba(60, 64, 67, 0.3), 0px 1px 3px 1px rgba(60, 64, 67, 0.15);\n",
              "      fill: #174EA6;\n",
              "    }\n",
              "\n",
              "    .colab-df-buttons div {\n",
              "      margin-bottom: 4px;\n",
              "    }\n",
              "\n",
              "    [theme=dark] .colab-df-convert {\n",
              "      background-color: #3B4455;\n",
              "      fill: #D2E3FC;\n",
              "    }\n",
              "\n",
              "    [theme=dark] .colab-df-convert:hover {\n",
              "      background-color: #434B5C;\n",
              "      box-shadow: 0px 1px 3px 1px rgba(0, 0, 0, 0.15);\n",
              "      filter: drop-shadow(0px 1px 2px rgba(0, 0, 0, 0.3));\n",
              "      fill: #FFFFFF;\n",
              "    }\n",
              "  </style>\n",
              "\n",
              "    <script>\n",
              "      const buttonEl =\n",
              "        document.querySelector('#df-440e0d4b-dc61-4745-8b3d-5da1d6bf5b06 button.colab-df-convert');\n",
              "      buttonEl.style.display =\n",
              "        google.colab.kernel.accessAllowed ? 'block' : 'none';\n",
              "\n",
              "      async function convertToInteractive(key) {\n",
              "        const element = document.querySelector('#df-440e0d4b-dc61-4745-8b3d-5da1d6bf5b06');\n",
              "        const dataTable =\n",
              "          await google.colab.kernel.invokeFunction('convertToInteractive',\n",
              "                                                    [key], {});\n",
              "        if (!dataTable) return;\n",
              "\n",
              "        const docLinkHtml = 'Like what you see? Visit the ' +\n",
              "          '<a target=\"_blank\" href=https://colab.research.google.com/notebooks/data_table.ipynb>data table notebook</a>'\n",
              "          + ' to learn more about interactive tables.';\n",
              "        element.innerHTML = '';\n",
              "        dataTable['output_type'] = 'display_data';\n",
              "        await google.colab.output.renderOutput(dataTable, element);\n",
              "        const docLink = document.createElement('div');\n",
              "        docLink.innerHTML = docLinkHtml;\n",
              "        element.appendChild(docLink);\n",
              "      }\n",
              "    </script>\n",
              "  </div>\n",
              "\n",
              "\n",
              "<div id=\"df-3b2046a2-d21d-416b-8d54-05ac1900e3b5\">\n",
              "  <button class=\"colab-df-quickchart\" onclick=\"quickchart('df-3b2046a2-d21d-416b-8d54-05ac1900e3b5')\"\n",
              "            title=\"Suggest charts\"\n",
              "            style=\"display:none;\">\n",
              "\n",
              "<svg xmlns=\"http://www.w3.org/2000/svg\" height=\"24px\"viewBox=\"0 0 24 24\"\n",
              "     width=\"24px\">\n",
              "    <g>\n",
              "        <path d=\"M19 3H5c-1.1 0-2 .9-2 2v14c0 1.1.9 2 2 2h14c1.1 0 2-.9 2-2V5c0-1.1-.9-2-2-2zM9 17H7v-7h2v7zm4 0h-2V7h2v10zm4 0h-2v-4h2v4z\"/>\n",
              "    </g>\n",
              "</svg>\n",
              "  </button>\n",
              "\n",
              "<style>\n",
              "  .colab-df-quickchart {\n",
              "      --bg-color: #E8F0FE;\n",
              "      --fill-color: #1967D2;\n",
              "      --hover-bg-color: #E2EBFA;\n",
              "      --hover-fill-color: #174EA6;\n",
              "      --disabled-fill-color: #AAA;\n",
              "      --disabled-bg-color: #DDD;\n",
              "  }\n",
              "\n",
              "  [theme=dark] .colab-df-quickchart {\n",
              "      --bg-color: #3B4455;\n",
              "      --fill-color: #D2E3FC;\n",
              "      --hover-bg-color: #434B5C;\n",
              "      --hover-fill-color: #FFFFFF;\n",
              "      --disabled-bg-color: #3B4455;\n",
              "      --disabled-fill-color: #666;\n",
              "  }\n",
              "\n",
              "  .colab-df-quickchart {\n",
              "    background-color: var(--bg-color);\n",
              "    border: none;\n",
              "    border-radius: 50%;\n",
              "    cursor: pointer;\n",
              "    display: none;\n",
              "    fill: var(--fill-color);\n",
              "    height: 32px;\n",
              "    padding: 0;\n",
              "    width: 32px;\n",
              "  }\n",
              "\n",
              "  .colab-df-quickchart:hover {\n",
              "    background-color: var(--hover-bg-color);\n",
              "    box-shadow: 0 1px 2px rgba(60, 64, 67, 0.3), 0 1px 3px 1px rgba(60, 64, 67, 0.15);\n",
              "    fill: var(--button-hover-fill-color);\n",
              "  }\n",
              "\n",
              "  .colab-df-quickchart-complete:disabled,\n",
              "  .colab-df-quickchart-complete:disabled:hover {\n",
              "    background-color: var(--disabled-bg-color);\n",
              "    fill: var(--disabled-fill-color);\n",
              "    box-shadow: none;\n",
              "  }\n",
              "\n",
              "  .colab-df-spinner {\n",
              "    border: 2px solid var(--fill-color);\n",
              "    border-color: transparent;\n",
              "    border-bottom-color: var(--fill-color);\n",
              "    animation:\n",
              "      spin 1s steps(1) infinite;\n",
              "  }\n",
              "\n",
              "  @keyframes spin {\n",
              "    0% {\n",
              "      border-color: transparent;\n",
              "      border-bottom-color: var(--fill-color);\n",
              "      border-left-color: var(--fill-color);\n",
              "    }\n",
              "    20% {\n",
              "      border-color: transparent;\n",
              "      border-left-color: var(--fill-color);\n",
              "      border-top-color: var(--fill-color);\n",
              "    }\n",
              "    30% {\n",
              "      border-color: transparent;\n",
              "      border-left-color: var(--fill-color);\n",
              "      border-top-color: var(--fill-color);\n",
              "      border-right-color: var(--fill-color);\n",
              "    }\n",
              "    40% {\n",
              "      border-color: transparent;\n",
              "      border-right-color: var(--fill-color);\n",
              "      border-top-color: var(--fill-color);\n",
              "    }\n",
              "    60% {\n",
              "      border-color: transparent;\n",
              "      border-right-color: var(--fill-color);\n",
              "    }\n",
              "    80% {\n",
              "      border-color: transparent;\n",
              "      border-right-color: var(--fill-color);\n",
              "      border-bottom-color: var(--fill-color);\n",
              "    }\n",
              "    90% {\n",
              "      border-color: transparent;\n",
              "      border-bottom-color: var(--fill-color);\n",
              "    }\n",
              "  }\n",
              "</style>\n",
              "\n",
              "  <script>\n",
              "    async function quickchart(key) {\n",
              "      const quickchartButtonEl =\n",
              "        document.querySelector('#' + key + ' button');\n",
              "      quickchartButtonEl.disabled = true;  // To prevent multiple clicks.\n",
              "      quickchartButtonEl.classList.add('colab-df-spinner');\n",
              "      try {\n",
              "        const charts = await google.colab.kernel.invokeFunction(\n",
              "            'suggestCharts', [key], {});\n",
              "      } catch (error) {\n",
              "        console.error('Error during call to suggestCharts:', error);\n",
              "      }\n",
              "      quickchartButtonEl.classList.remove('colab-df-spinner');\n",
              "      quickchartButtonEl.classList.add('colab-df-quickchart-complete');\n",
              "    }\n",
              "    (() => {\n",
              "      let quickchartButtonEl =\n",
              "        document.querySelector('#df-3b2046a2-d21d-416b-8d54-05ac1900e3b5 button');\n",
              "      quickchartButtonEl.style.display =\n",
              "        google.colab.kernel.accessAllowed ? 'block' : 'none';\n",
              "    })();\n",
              "  </script>\n",
              "</div>\n",
              "\n",
              "    </div>\n",
              "  </div>\n"
            ],
            "application/vnd.google.colaboratory.intrinsic+json": {
              "type": "dataframe",
              "variable_name": "iris_df",
              "summary": "{\n  \"name\": \"iris_df\",\n  \"rows\": 150,\n  \"fields\": [\n    {\n      \"column\": \"sepal length (cm)\",\n      \"properties\": {\n        \"dtype\": \"number\",\n        \"std\": 0.828066127977863,\n        \"min\": 4.3,\n        \"max\": 7.9,\n        \"num_unique_values\": 35,\n        \"samples\": [\n          6.2,\n          4.5,\n          5.6\n        ],\n        \"semantic_type\": \"\",\n        \"description\": \"\"\n      }\n    },\n    {\n      \"column\": \"sepal width (cm)\",\n      \"properties\": {\n        \"dtype\": \"number\",\n        \"std\": 0.4358662849366982,\n        \"min\": 2.0,\n        \"max\": 4.4,\n        \"num_unique_values\": 23,\n        \"samples\": [\n          2.3,\n          4.0,\n          3.5\n        ],\n        \"semantic_type\": \"\",\n        \"description\": \"\"\n      }\n    },\n    {\n      \"column\": \"petal length (cm)\",\n      \"properties\": {\n        \"dtype\": \"number\",\n        \"std\": 1.7652982332594662,\n        \"min\": 1.0,\n        \"max\": 6.9,\n        \"num_unique_values\": 43,\n        \"samples\": [\n          6.7,\n          3.8,\n          3.7\n        ],\n        \"semantic_type\": \"\",\n        \"description\": \"\"\n      }\n    },\n    {\n      \"column\": \"petal width (cm)\",\n      \"properties\": {\n        \"dtype\": \"number\",\n        \"std\": 0.7622376689603465,\n        \"min\": 0.1,\n        \"max\": 2.5,\n        \"num_unique_values\": 22,\n        \"samples\": [\n          0.2,\n          1.2,\n          1.3\n        ],\n        \"semantic_type\": \"\",\n        \"description\": \"\"\n      }\n    }\n  ]\n}"
            }
          },
          "metadata": {},
          "execution_count": 4
        }
      ]
    },
    {
      "cell_type": "code",
      "source": [
        "# display column names of extracted dataset\n",
        "list(iris_df.columns)"
      ],
      "metadata": {
        "colab": {
          "base_uri": "https://localhost:8080/"
        },
        "id": "D7tCxl8ct-DD",
        "outputId": "4dc6c9f1-0f99-4af8-8ac1-2268263beae3"
      },
      "execution_count": 5,
      "outputs": [
        {
          "output_type": "execute_result",
          "data": {
            "text/plain": [
              "['sepal length (cm)',\n",
              " 'sepal width (cm)',\n",
              " 'petal length (cm)',\n",
              " 'petal width (cm)']"
            ]
          },
          "metadata": {},
          "execution_count": 5
        }
      ]
    },
    {
      "cell_type": "code",
      "source": [
        "iris_df.corr()   # find correlation among various features of iris dataset"
      ],
      "metadata": {
        "colab": {
          "base_uri": "https://localhost:8080/",
          "height": 175
        },
        "id": "-3z_TKoautlr",
        "outputId": "ca9a89c8-bcac-4f68-f948-9b29e71de391"
      },
      "execution_count": 6,
      "outputs": [
        {
          "output_type": "execute_result",
          "data": {
            "text/plain": [
              "                   sepal length (cm)  sepal width (cm)  petal length (cm)  \\\n",
              "sepal length (cm)           1.000000         -0.117570           0.871754   \n",
              "sepal width (cm)           -0.117570          1.000000          -0.428440   \n",
              "petal length (cm)           0.871754         -0.428440           1.000000   \n",
              "petal width (cm)            0.817941         -0.366126           0.962865   \n",
              "\n",
              "                   petal width (cm)  \n",
              "sepal length (cm)          0.817941  \n",
              "sepal width (cm)          -0.366126  \n",
              "petal length (cm)          0.962865  \n",
              "petal width (cm)           1.000000  "
            ],
            "text/html": [
              "\n",
              "  <div id=\"df-f3b32d62-226b-43de-91c5-90074795cc97\" class=\"colab-df-container\">\n",
              "    <div>\n",
              "<style scoped>\n",
              "    .dataframe tbody tr th:only-of-type {\n",
              "        vertical-align: middle;\n",
              "    }\n",
              "\n",
              "    .dataframe tbody tr th {\n",
              "        vertical-align: top;\n",
              "    }\n",
              "\n",
              "    .dataframe thead th {\n",
              "        text-align: right;\n",
              "    }\n",
              "</style>\n",
              "<table border=\"1\" class=\"dataframe\">\n",
              "  <thead>\n",
              "    <tr style=\"text-align: right;\">\n",
              "      <th></th>\n",
              "      <th>sepal length (cm)</th>\n",
              "      <th>sepal width (cm)</th>\n",
              "      <th>petal length (cm)</th>\n",
              "      <th>petal width (cm)</th>\n",
              "    </tr>\n",
              "  </thead>\n",
              "  <tbody>\n",
              "    <tr>\n",
              "      <th>sepal length (cm)</th>\n",
              "      <td>1.000000</td>\n",
              "      <td>-0.117570</td>\n",
              "      <td>0.871754</td>\n",
              "      <td>0.817941</td>\n",
              "    </tr>\n",
              "    <tr>\n",
              "      <th>sepal width (cm)</th>\n",
              "      <td>-0.117570</td>\n",
              "      <td>1.000000</td>\n",
              "      <td>-0.428440</td>\n",
              "      <td>-0.366126</td>\n",
              "    </tr>\n",
              "    <tr>\n",
              "      <th>petal length (cm)</th>\n",
              "      <td>0.871754</td>\n",
              "      <td>-0.428440</td>\n",
              "      <td>1.000000</td>\n",
              "      <td>0.962865</td>\n",
              "    </tr>\n",
              "    <tr>\n",
              "      <th>petal width (cm)</th>\n",
              "      <td>0.817941</td>\n",
              "      <td>-0.366126</td>\n",
              "      <td>0.962865</td>\n",
              "      <td>1.000000</td>\n",
              "    </tr>\n",
              "  </tbody>\n",
              "</table>\n",
              "</div>\n",
              "    <div class=\"colab-df-buttons\">\n",
              "\n",
              "  <div class=\"colab-df-container\">\n",
              "    <button class=\"colab-df-convert\" onclick=\"convertToInteractive('df-f3b32d62-226b-43de-91c5-90074795cc97')\"\n",
              "            title=\"Convert this dataframe to an interactive table.\"\n",
              "            style=\"display:none;\">\n",
              "\n",
              "  <svg xmlns=\"http://www.w3.org/2000/svg\" height=\"24px\" viewBox=\"0 -960 960 960\">\n",
              "    <path d=\"M120-120v-720h720v720H120Zm60-500h600v-160H180v160Zm220 220h160v-160H400v160Zm0 220h160v-160H400v160ZM180-400h160v-160H180v160Zm440 0h160v-160H620v160ZM180-180h160v-160H180v160Zm440 0h160v-160H620v160Z\"/>\n",
              "  </svg>\n",
              "    </button>\n",
              "\n",
              "  <style>\n",
              "    .colab-df-container {\n",
              "      display:flex;\n",
              "      gap: 12px;\n",
              "    }\n",
              "\n",
              "    .colab-df-convert {\n",
              "      background-color: #E8F0FE;\n",
              "      border: none;\n",
              "      border-radius: 50%;\n",
              "      cursor: pointer;\n",
              "      display: none;\n",
              "      fill: #1967D2;\n",
              "      height: 32px;\n",
              "      padding: 0 0 0 0;\n",
              "      width: 32px;\n",
              "    }\n",
              "\n",
              "    .colab-df-convert:hover {\n",
              "      background-color: #E2EBFA;\n",
              "      box-shadow: 0px 1px 2px rgba(60, 64, 67, 0.3), 0px 1px 3px 1px rgba(60, 64, 67, 0.15);\n",
              "      fill: #174EA6;\n",
              "    }\n",
              "\n",
              "    .colab-df-buttons div {\n",
              "      margin-bottom: 4px;\n",
              "    }\n",
              "\n",
              "    [theme=dark] .colab-df-convert {\n",
              "      background-color: #3B4455;\n",
              "      fill: #D2E3FC;\n",
              "    }\n",
              "\n",
              "    [theme=dark] .colab-df-convert:hover {\n",
              "      background-color: #434B5C;\n",
              "      box-shadow: 0px 1px 3px 1px rgba(0, 0, 0, 0.15);\n",
              "      filter: drop-shadow(0px 1px 2px rgba(0, 0, 0, 0.3));\n",
              "      fill: #FFFFFF;\n",
              "    }\n",
              "  </style>\n",
              "\n",
              "    <script>\n",
              "      const buttonEl =\n",
              "        document.querySelector('#df-f3b32d62-226b-43de-91c5-90074795cc97 button.colab-df-convert');\n",
              "      buttonEl.style.display =\n",
              "        google.colab.kernel.accessAllowed ? 'block' : 'none';\n",
              "\n",
              "      async function convertToInteractive(key) {\n",
              "        const element = document.querySelector('#df-f3b32d62-226b-43de-91c5-90074795cc97');\n",
              "        const dataTable =\n",
              "          await google.colab.kernel.invokeFunction('convertToInteractive',\n",
              "                                                    [key], {});\n",
              "        if (!dataTable) return;\n",
              "\n",
              "        const docLinkHtml = 'Like what you see? Visit the ' +\n",
              "          '<a target=\"_blank\" href=https://colab.research.google.com/notebooks/data_table.ipynb>data table notebook</a>'\n",
              "          + ' to learn more about interactive tables.';\n",
              "        element.innerHTML = '';\n",
              "        dataTable['output_type'] = 'display_data';\n",
              "        await google.colab.output.renderOutput(dataTable, element);\n",
              "        const docLink = document.createElement('div');\n",
              "        docLink.innerHTML = docLinkHtml;\n",
              "        element.appendChild(docLink);\n",
              "      }\n",
              "    </script>\n",
              "  </div>\n",
              "\n",
              "\n",
              "<div id=\"df-3e59b0f8-e857-4752-b9f0-d0338d46e614\">\n",
              "  <button class=\"colab-df-quickchart\" onclick=\"quickchart('df-3e59b0f8-e857-4752-b9f0-d0338d46e614')\"\n",
              "            title=\"Suggest charts\"\n",
              "            style=\"display:none;\">\n",
              "\n",
              "<svg xmlns=\"http://www.w3.org/2000/svg\" height=\"24px\"viewBox=\"0 0 24 24\"\n",
              "     width=\"24px\">\n",
              "    <g>\n",
              "        <path d=\"M19 3H5c-1.1 0-2 .9-2 2v14c0 1.1.9 2 2 2h14c1.1 0 2-.9 2-2V5c0-1.1-.9-2-2-2zM9 17H7v-7h2v7zm4 0h-2V7h2v10zm4 0h-2v-4h2v4z\"/>\n",
              "    </g>\n",
              "</svg>\n",
              "  </button>\n",
              "\n",
              "<style>\n",
              "  .colab-df-quickchart {\n",
              "      --bg-color: #E8F0FE;\n",
              "      --fill-color: #1967D2;\n",
              "      --hover-bg-color: #E2EBFA;\n",
              "      --hover-fill-color: #174EA6;\n",
              "      --disabled-fill-color: #AAA;\n",
              "      --disabled-bg-color: #DDD;\n",
              "  }\n",
              "\n",
              "  [theme=dark] .colab-df-quickchart {\n",
              "      --bg-color: #3B4455;\n",
              "      --fill-color: #D2E3FC;\n",
              "      --hover-bg-color: #434B5C;\n",
              "      --hover-fill-color: #FFFFFF;\n",
              "      --disabled-bg-color: #3B4455;\n",
              "      --disabled-fill-color: #666;\n",
              "  }\n",
              "\n",
              "  .colab-df-quickchart {\n",
              "    background-color: var(--bg-color);\n",
              "    border: none;\n",
              "    border-radius: 50%;\n",
              "    cursor: pointer;\n",
              "    display: none;\n",
              "    fill: var(--fill-color);\n",
              "    height: 32px;\n",
              "    padding: 0;\n",
              "    width: 32px;\n",
              "  }\n",
              "\n",
              "  .colab-df-quickchart:hover {\n",
              "    background-color: var(--hover-bg-color);\n",
              "    box-shadow: 0 1px 2px rgba(60, 64, 67, 0.3), 0 1px 3px 1px rgba(60, 64, 67, 0.15);\n",
              "    fill: var(--button-hover-fill-color);\n",
              "  }\n",
              "\n",
              "  .colab-df-quickchart-complete:disabled,\n",
              "  .colab-df-quickchart-complete:disabled:hover {\n",
              "    background-color: var(--disabled-bg-color);\n",
              "    fill: var(--disabled-fill-color);\n",
              "    box-shadow: none;\n",
              "  }\n",
              "\n",
              "  .colab-df-spinner {\n",
              "    border: 2px solid var(--fill-color);\n",
              "    border-color: transparent;\n",
              "    border-bottom-color: var(--fill-color);\n",
              "    animation:\n",
              "      spin 1s steps(1) infinite;\n",
              "  }\n",
              "\n",
              "  @keyframes spin {\n",
              "    0% {\n",
              "      border-color: transparent;\n",
              "      border-bottom-color: var(--fill-color);\n",
              "      border-left-color: var(--fill-color);\n",
              "    }\n",
              "    20% {\n",
              "      border-color: transparent;\n",
              "      border-left-color: var(--fill-color);\n",
              "      border-top-color: var(--fill-color);\n",
              "    }\n",
              "    30% {\n",
              "      border-color: transparent;\n",
              "      border-left-color: var(--fill-color);\n",
              "      border-top-color: var(--fill-color);\n",
              "      border-right-color: var(--fill-color);\n",
              "    }\n",
              "    40% {\n",
              "      border-color: transparent;\n",
              "      border-right-color: var(--fill-color);\n",
              "      border-top-color: var(--fill-color);\n",
              "    }\n",
              "    60% {\n",
              "      border-color: transparent;\n",
              "      border-right-color: var(--fill-color);\n",
              "    }\n",
              "    80% {\n",
              "      border-color: transparent;\n",
              "      border-right-color: var(--fill-color);\n",
              "      border-bottom-color: var(--fill-color);\n",
              "    }\n",
              "    90% {\n",
              "      border-color: transparent;\n",
              "      border-bottom-color: var(--fill-color);\n",
              "    }\n",
              "  }\n",
              "</style>\n",
              "\n",
              "  <script>\n",
              "    async function quickchart(key) {\n",
              "      const quickchartButtonEl =\n",
              "        document.querySelector('#' + key + ' button');\n",
              "      quickchartButtonEl.disabled = true;  // To prevent multiple clicks.\n",
              "      quickchartButtonEl.classList.add('colab-df-spinner');\n",
              "      try {\n",
              "        const charts = await google.colab.kernel.invokeFunction(\n",
              "            'suggestCharts', [key], {});\n",
              "      } catch (error) {\n",
              "        console.error('Error during call to suggestCharts:', error);\n",
              "      }\n",
              "      quickchartButtonEl.classList.remove('colab-df-spinner');\n",
              "      quickchartButtonEl.classList.add('colab-df-quickchart-complete');\n",
              "    }\n",
              "    (() => {\n",
              "      let quickchartButtonEl =\n",
              "        document.querySelector('#df-3e59b0f8-e857-4752-b9f0-d0338d46e614 button');\n",
              "      quickchartButtonEl.style.display =\n",
              "        google.colab.kernel.accessAllowed ? 'block' : 'none';\n",
              "    })();\n",
              "  </script>\n",
              "</div>\n",
              "\n",
              "    </div>\n",
              "  </div>\n"
            ],
            "application/vnd.google.colaboratory.intrinsic+json": {
              "type": "dataframe",
              "summary": "{\n  \"name\": \"iris_df\",\n  \"rows\": 4,\n  \"fields\": [\n    {\n      \"column\": \"sepal length (cm)\",\n      \"properties\": {\n        \"dtype\": \"number\",\n        \"std\": 0.5127858813273581,\n        \"min\": -0.11756978413300088,\n        \"max\": 1.0,\n        \"num_unique_values\": 4,\n        \"samples\": [\n          -0.11756978413300088,\n          0.8179411262715758,\n          1.0\n        ],\n        \"semantic_type\": \"\",\n        \"description\": \"\"\n      }\n    },\n    {\n      \"column\": \"sepal width (cm)\",\n      \"properties\": {\n        \"dtype\": \"number\",\n        \"std\": 0.6657080809503223,\n        \"min\": -0.42844010433053864,\n        \"max\": 1.0,\n        \"num_unique_values\": 4,\n        \"samples\": [\n          1.0,\n          -0.3661259325364377,\n          -0.11756978413300088\n        ],\n        \"semantic_type\": \"\",\n        \"description\": \"\"\n      }\n    },\n    {\n      \"column\": \"petal length (cm)\",\n      \"properties\": {\n        \"dtype\": \"number\",\n        \"std\": 0.6887672414981271,\n        \"min\": -0.42844010433053864,\n        \"max\": 1.0,\n        \"num_unique_values\": 4,\n        \"samples\": [\n          -0.42844010433053864,\n          0.962865431402796,\n          0.8717537758865838\n        ],\n        \"semantic_type\": \"\",\n        \"description\": \"\"\n      }\n    },\n    {\n      \"column\": \"petal width (cm)\",\n      \"properties\": {\n        \"dtype\": \"number\",\n        \"std\": 0.6512846518377995,\n        \"min\": -0.3661259325364377,\n        \"max\": 1.0,\n        \"num_unique_values\": 4,\n        \"samples\": [\n          -0.3661259325364377,\n          1.0,\n          0.8179411262715758\n        ],\n        \"semantic_type\": \"\",\n        \"description\": \"\"\n      }\n    }\n  ]\n}"
            }
          },
          "metadata": {},
          "execution_count": 6
        }
      ]
    },
    {
      "cell_type": "code",
      "source": [
        "# analyse the data using plots\n",
        "\"\"\"\n",
        "Will be using 3 plots:\n",
        "1) Horizontal bar chart\n",
        "2) Histogram\n",
        "3) Scatter Plot\n",
        "\"\"\"\n",
        "# Count the occurrences of each unique sepal length\n",
        "sep_len = iris_df['sepal length (cm)']\n",
        "sepal_length_counts = iris_df['sepal length (cm)'].value_counts()\n",
        "\n",
        "# Sort the sepal lengths in ascending order\n",
        "sepal_lengths = sorted(sepal_length_counts.index)\n",
        "\n",
        "# Plot the occurrence of sepal length using horizontal bar chart\n",
        "plt.barh(sepal_lengths, sepal_length_counts[sepal_lengths], linestyle=\"--\")\n",
        "\n",
        "# Set the labels and title\n",
        "plt.xlabel('Occurrences')\n",
        "plt.ylabel('Sepal Length (cm)')\n",
        "plt.title('Occurrence of Sepal Length in Iris Dataset')\n",
        "\n",
        "# Show the horizontal bar chart plot for sepal length\n",
        "plt.show()\n",
        "\n",
        "# Creating a histogram for count of sepal width in the iris dataset\n",
        "sep_wid = iris_df['sepal width (cm)']\n",
        "bin_edges = (sep_wid[:len(sep_wid)] + sep_wid[1:])/2;\n",
        "bin_edges = sorted(bin_edges[1:]); # get bin edges in increasing order\n",
        "plt.hist(sep_wid, bins=bin_edges, range=[sep_wid.min(), sep_wid.max()]);\n",
        "plt.xlabel('Sepal Width (cm)')\n",
        "plt.ylabel('Occurences')\n",
        "plt.title('Occurrence of Sepal Width in Iris Dataset')\n",
        "plt.show()\n",
        "\n",
        "# creating a scatter plot of sepal length against sepal width in the iris dataset\n",
        "plt.scatter(sep_len, sep_wid);\n",
        "plt.xlabel('Sepal Length (cm)')\n",
        "plt.ylabel('Sepal Width (cm)')\n",
        "plt.title('Scatter plot of Sepal Width vs Sepal Length in Iris Dataset')\n",
        "plt.show()"
      ],
      "metadata": {
        "colab": {
          "base_uri": "https://localhost:8080/",
          "height": 1000
        },
        "id": "aeOT0Ks7wJia",
        "outputId": "86417360-df67-47d0-f89e-a514b10537ab"
      },
      "execution_count": 7,
      "outputs": [
        {
          "output_type": "display_data",
          "data": {
            "text/plain": [
              "<Figure size 640x480 with 1 Axes>"
            ],
            "image/png": "[encoded data removed]"
          },
          "metadata": {}
        },
        {
          "output_type": "display_data",
          "data": {
            "text/plain": [
              "<Figure size 640x480 with 1 Axes>"
            ],
            "image/png": "[encoded data removed]"
          },
          "metadata": {}
        },
        {
          "output_type": "display_data",
          "data": {
            "text/plain": [
              "<Figure size 640x480 with 1 Axes>"
            ],
            "image/png": "[encoded data removed]"
          },
          "metadata": {}
        }
      ]
    },
    {
      "cell_type": "code",
      "source": [
        "# get the most frequent value in the entire dataset\n",
        "\n",
        "max_val_idx = iris_df.stack().value_counts().idxmax()\n",
        "max_val_idx  # prints the most frequent value in the dataset"
      ],
      "metadata": {
        "colab": {
          "base_uri": "https://localhost:8080/"
        },
        "id": "DI0WfSrxzYQP",
        "outputId": "ca37bc3e-1095-41c6-c792-9bbd0e771b06"
      },
      "execution_count": 8,
      "outputs": [
        {
          "output_type": "execute_result",
          "data": {
            "text/plain": [
              "0.2"
            ]
          },
          "metadata": {},
          "execution_count": 8
        }
      ]
    },
    {
      "cell_type": "code",
      "source": [
        "'''\n",
        "Done 1.\tIntroduction to python with study of machine learning and its types\n",
        "Done 2.\tExtract the data from any database.\n",
        "Done 3.\tWrite a program to get the column name from extracted data.\n",
        "Done 4.\tWAP to find the most frequent words in a CSV file(Extracted data from prev file).\n",
        "Done 5.\tImplement and demonstrate the FINDS algorithm for finding the most specific hypothesis (applicable) based on a given set of training data stored in a .csv file.\n",
        "Done 6.\tWAP to draw a horizontal bar graph, histogram and scatter-plot chart with matplotlib.\n",
        "'''"
      ],
      "metadata": {
        "id": "3S9Ne5jqwn5C",
        "colab": {
          "base_uri": "https://localhost:8080/",
          "height": 88
        },
        "outputId": "6795b621-019e-40b6-f7f3-5a8f562063e8"
      },
      "execution_count": 9,
      "outputs": [
        {
          "output_type": "execute_result",
          "data": {
            "text/plain": [
              "'\\nDone 1.\\tIntroduction to python with study of machine learning and its types\\nDone 2.\\tExtract the data from any database.\\nDone 3.\\tWrite a program to get the column name from extracted data.\\nDone 4.\\tWAP to find the most frequent words in a CSV file(Extracted data from prev file).\\nDone 5.\\tImplement and demonstrate the FINDS algorithm for finding the most specific hypothesis (applicable) based on a given set of training data stored in a .csv file.\\nDone 6.\\tWAP to draw a horizontal bar graph, histogram and scatter-plot chart with matplotlib.\\n'"
            ],
            "application/vnd.google.colaboratory.intrinsic+json": {
              "type": "string"
            }
          },
          "metadata": {},
          "execution_count": 9
        }
      ]
    },
    {
      "cell_type": "code",
      "source": [
        "data = {\n",
        "    'Outlook': ['sunny', 'sunny', 'overcast', 'rainy', 'rainy', 'rainy', 'overcast', 'sunny', 'sunny', 'rainy', 'sunny', 'overcast', 'overcast', 'rainy'],\n",
        "    'Temperature': ['hot', 'hot', 'hot', 'mild', 'cool', 'cool', 'cool', 'mild', 'cool', 'mild', 'mild', 'mild', 'hot', 'mild'],\n",
        "    'Humidity': ['high', 'high', 'high', 'high', 'normal', 'normal', 'normal', 'high', 'normal', 'normal', 'normal', 'high', 'normal', 'high'],\n",
        "    'Wind': ['weak', 'strong', 'weak', 'weak', 'weak', 'strong', 'strong', 'weak', 'weak', 'weak', 'strong', 'strong', 'weak', 'strong'],\n",
        "    'PlayTennis': ['no', 'no', 'yes', 'yes', 'yes', 'no', 'yes', 'no', 'yes', 'yes', 'yes', 'yes', 'yes', 'no']\n",
        "}\n",
        "\n",
        "train_data = pd.DataFrame(data)\n",
        "\n",
        "#display training data\n",
        "print(train_data)"
      ],
      "metadata": {
        "id": "Hzvimx1e7334",
        "colab": {
          "base_uri": "https://localhost:8080/"
        },
        "outputId": "72543291-2183-463b-f8b6-4583636d2f9e"
      },
      "execution_count": 10,
      "outputs": [
        {
          "output_type": "stream",
          "name": "stdout",
          "text": [
            "     Outlook Temperature Humidity    Wind PlayTennis\n",
            "0      sunny         hot     high    weak         no\n",
            "1      sunny         hot     high  strong         no\n",
            "2   overcast         hot     high    weak        yes\n",
            "3      rainy        mild     high    weak        yes\n",
            "4      rainy        cool   normal    weak        yes\n",
            "5      rainy        cool   normal  strong         no\n",
            "6   overcast        cool   normal  strong        yes\n",
            "7      sunny        mild     high    weak         no\n",
            "8      sunny        cool   normal    weak        yes\n",
            "9      rainy        mild   normal    weak        yes\n",
            "10     sunny        mild   normal  strong        yes\n",
            "11  overcast        mild     high  strong        yes\n",
            "12  overcast         hot   normal    weak        yes\n",
            "13     rainy        mild     high  strong         no\n"
          ]
        }
      ]
    },
    {
      "cell_type": "code",
      "source": [
        "import sys\n",
        "feature_cols = list(train_data.columns[0:4])\n",
        "\n",
        "pos = []\n",
        "count_ques = 0\n",
        "flag_raised = False\n",
        "for i in range(train_data.shape[0]):\n",
        "  if train_data['PlayTennis'][i]==\"no\":\n",
        "    # negative label, so skipped and not considered\n",
        "    print(\"Skipping negative label and moving ahead....\")\n",
        "  else:\n",
        "    a = list(train_data[feature_cols].iloc[i].values)\n",
        "    if len(pos)!=0:\n",
        "      # check against previous hypothesis\n",
        "      if count_ques == len(pos):\n",
        "        print(\"Final Hypothesis cannot be framed as no relevant feature has been found\")\n",
        "        flag_raised = True\n",
        "        break\n",
        "      for j in range(len(a)):\n",
        "        if pos[j]!=a[j] and pos[j]!=\"?\":\n",
        "          pos[j]=\"?\" # replace unmatching features with a ?\n",
        "          count_ques += 1\n",
        "      print(\"Proposed Hypothesis for getting positive label is :- \" + str(pos[0]).capitalize() + \" \" + feature_cols[0] + \" \"\n",
        "          + str(pos[1]).capitalize() + \" \" + feature_cols[1] + \" \" + str(pos[2]).capitalize() + \" \" + feature_cols[2]\n",
        "          + \" \" + str(pos[3]).capitalize() + \" \" + feature_cols[3])\n",
        "      continue\n",
        "    print(\"Proposed Hypothesis for getting positive label is :- \" + str(a[0]).capitalize() + \" \" + feature_cols[0] + \" \"\n",
        "          + str(a[1]).capitalize() + \" \" + feature_cols[1] + \" \" + str(a[2]).capitalize() + \" \" + feature_cols[2]\n",
        "          + \" \" + str(a[3]).capitalize() + \" \" + feature_cols[3])\n",
        "    pos = a\n",
        "\n",
        "if(not flag_raised):\n",
        "  print(\"Final Hypothesis for getting positive label is :-\")\n",
        "  for i in range(len(pos)):\n",
        "    if pos[i]==\"?\":\n",
        "      # skip this feature\n",
        "      continue\n",
        "    else:\n",
        "      print(str(pos[i]).capitalize() + \" \" + feature_cols[i])"
      ],
      "metadata": {
        "colab": {
          "base_uri": "https://localhost:8080/"
        },
        "id": "g2z87OIdHcza",
        "outputId": "72f3d188-6e87-45fd-e731-ae853941b540"
      },
      "execution_count": 11,
      "outputs": [
        {
          "output_type": "stream",
          "name": "stdout",
          "text": [
            "Skipping negative label and moving ahead....\n",
            "Skipping negative label and moving ahead....\n",
            "Proposed Hypothesis for getting positive label is :- Overcast Outlook Hot Temperature High Humidity Weak Wind\n",
            "Proposed Hypothesis for getting positive label is :- ? Outlook ? Temperature High Humidity Weak Wind\n",
            "Proposed Hypothesis for getting positive label is :- ? Outlook ? Temperature ? Humidity Weak Wind\n",
            "Skipping negative label and moving ahead....\n",
            "Proposed Hypothesis for getting positive label is :- ? Outlook ? Temperature ? Humidity ? Wind\n",
            "Skipping negative label and moving ahead....\n",
            "Final Hypothesis cannot be framed as no relevant feature has been found\n"
          ]
        }
      ]
    },
    {
      "cell_type": "code",
      "source": [
        "# Rough work\n",
        "# list(train_data[feature_cols].iloc[0].values)"
      ],
      "metadata": {
        "id": "KujhvN9SHp-O"
      },
      "execution_count": 12,
      "outputs": []
    },
    {
      "cell_type": "code",
      "source": [
        "'''\n",
        "DONE: Complete Experiment 7\n",
        "'''\n",
        "\n",
        "# Experiment 7: Implementation of Naive bayes algorithm for classification using numerical data provided\n",
        "\n",
        "data = {\n",
        "    'Colour': ['red', 'red', 'red', 'yellow', 'yellow', 'yellow', 'yellow', 'yellow', 'red', 'red'],\n",
        "    'Type': ['sports', 'sports', 'sports', 'sports', 'sports', 'SUV', 'SUV', 'SUV', 'SUV', 'sports'],\n",
        "    'Origin': ['domestic', 'domestic', 'domestic', 'domestic', 'imported', 'imported', 'imported', 'domestic', 'imported', 'imported'],\n",
        "    'Whether Stolen': ['yes', 'no', 'yes', 'no', 'yes', 'no', 'yes', 'no', 'no', 'yes']\n",
        "}\n",
        "\n",
        "train_data = pd.DataFrame(data)\n",
        "\n",
        "#display training data\n",
        "print(train_data)"
      ],
      "metadata": {
        "id": "jjGn5DL7JGUS",
        "colab": {
          "base_uri": "https://localhost:8080/"
        },
        "outputId": "ef76e5d5-245a-4b33-f719-5feb7d1eacaa"
      },
      "execution_count": 13,
      "outputs": [
        {
          "output_type": "stream",
          "name": "stdout",
          "text": [
            "   Colour    Type    Origin Whether Stolen\n",
            "0     red  sports  domestic            yes\n",
            "1     red  sports  domestic             no\n",
            "2     red  sports  domestic            yes\n",
            "3  yellow  sports  domestic             no\n",
            "4  yellow  sports  imported            yes\n",
            "5  yellow     SUV  imported             no\n",
            "6  yellow     SUV  imported            yes\n",
            "7  yellow     SUV  domestic             no\n",
            "8     red     SUV  imported             no\n",
            "9     red  sports  imported            yes\n"
          ]
        }
      ]
    },
    {
      "cell_type": "code",
      "source": [
        "# given conditions based on which class label to be predicted\n",
        "'''\n",
        "red, domestic, SUV car\n",
        "'''\n",
        "f1 = \"red\"\n",
        "f2 = \"SUV\"\n",
        "f3 = \"domestic\"\n",
        "length = train_data.shape[0]\n",
        "\n",
        "# computing the probability of all three features occuring, assuming all the given features are independent as per Naive Bayes algorithm\n",
        "P_f1f2f3 = 1\n",
        "P_f1 = sum(train_data.loc[:,\"Colour\"]==f1)/length\n",
        "P_f2 = sum(train_data.loc[:,\"Type\"]==f2)/length\n",
        "P_f3 = sum(train_data.loc[:,\"Origin\"]==f3)/length\n",
        "P_f1f2f3 *= (P_f1*P_f2*P_f3)\n",
        "\n",
        "P_f1f2f3"
      ],
      "metadata": {
        "colab": {
          "base_uri": "https://localhost:8080/"
        },
        "id": "1xAgX7a_XqI8",
        "outputId": "0eea19d0-fb64-4781-c746-80da03689f06"
      },
      "execution_count": 14,
      "outputs": [
        {
          "output_type": "execute_result",
          "data": {
            "text/plain": [
              "0.1"
            ]
          },
          "metadata": {},
          "execution_count": 14
        }
      ]
    },
    {
      "cell_type": "code",
      "source": [
        "# calculate conditional probabilities of each feature occuring given the class\n",
        "# for stolen\n",
        "train_data_stolen = train_data[train_data.loc[:,\"Whether Stolen\"]==\"yes\"]\n",
        "length_stolen = train_data_stolen.shape[0]\n",
        "P_f1_stole = sum(train_data_stolen.loc[:,\"Colour\"]==f1)/length_stolen\n",
        "P_f2_stole = sum(train_data_stolen.loc[:,\"Type\"]==f2)/length_stolen\n",
        "P_f3_stole = sum(train_data_stolen.loc[:,\"Origin\"]==f3)/length_stolen\n",
        "# compute product of the individual conditional probabilities\n",
        "P_f1f2f3_stole = P_f1_stole*P_f2_stole*P_f3_stole\n",
        "\n",
        "# for not stolen\n",
        "train_data_notstolen = train_data[train_data.loc[:,\"Whether Stolen\"]==\"no\"]\n",
        "length_notstolen = train_data_notstolen.shape[0]\n",
        "P_f1_notstole = sum(train_data_notstolen.loc[:,\"Colour\"]==f1)/length_notstolen\n",
        "P_f2_notstole = sum(train_data_notstolen.loc[:,\"Type\"]==f2)/length_notstolen\n",
        "P_f3_notstole = sum(train_data_notstolen.loc[:,\"Origin\"]==f3)/length_notstolen\n",
        "# compute product of the individual conditional probabilities\n",
        "P_f1f2f3_notstole = P_f1_notstole*P_f2_notstole*P_f3_notstole\n",
        "\n",
        "# calculate probabilites of occurence of classes\n",
        "# for stolen\n",
        "P_stole = sum(train_data.loc[:,\"Whether Stolen\"]==\"yes\")/length\n",
        "\n",
        "# for not stolen\n",
        "P_notstole = sum(train_data.loc[:,\"Whether Stolen\"]==\"no\")/length"
      ],
      "metadata": {
        "id": "rYgXsNbxZnL-"
      },
      "execution_count": 15,
      "outputs": []
    },
    {
      "cell_type": "code",
      "source": [
        "# compute the conditional probability of class occuring given the features\n",
        "# for stolen\n",
        "P_stole_f1f2f3 = P_f1f2f3_stole*P_stole/P_f1f2f3\n",
        "\n",
        "# for not stolen\n",
        "P_notstole_f1f2f3 = P_f1f2f3_notstole*P_notstole/P_f1f2f3\n",
        "\n",
        "if P_stole_f1f2f3>=P_notstole_f1f2f3:\n",
        "  answer=\"Yes, stolen!\"\n",
        "else:\n",
        "  answer=\"No, not stolen!\"\n",
        "\n",
        "# get the class label predicted by Naive Bayes classifier\n",
        "print(answer)"
      ],
      "metadata": {
        "id": "sLn3CMrUcY6Z",
        "colab": {
          "base_uri": "https://localhost:8080/"
        },
        "outputId": "0aaa5373-05de-4357-9fe8-b4a9af0b4433"
      },
      "execution_count": 16,
      "outputs": [
        {
          "output_type": "stream",
          "name": "stdout",
          "text": [
            "No, not stolen!\n"
          ]
        }
      ]
    },
    {
      "cell_type": "code",
      "source": [
        "'''\n",
        "DONE: Complete Experiment 8\n",
        "'''\n",
        "\n",
        "# Experiment 8: Implementation of linear regression algorithm on numerical data provided\n",
        "\n",
        "data = {\n",
        "    'Driving Experience (in years)': [5, 2, 12, 9, 15, 6, 25, 16],\n",
        "    'Monthly Auto Insurance Premium ($)': [64, 87, 50, 71, 44, 56, 42, 60]\n",
        "}\n",
        "\n",
        "train_data = pd.DataFrame(data)\n",
        "\n",
        "#display training data\n",
        "print(train_data)"
      ],
      "metadata": {
        "id": "3yGrQNOFcawA",
        "colab": {
          "base_uri": "https://localhost:8080/"
        },
        "outputId": "734ae930-5600-4e49-a673-fbf09a627cc9"
      },
      "execution_count": 17,
      "outputs": [
        {
          "output_type": "stream",
          "name": "stdout",
          "text": [
            "   Driving Experience (in years)  Monthly Auto Insurance Premium ($)\n",
            "0                              5                                  64\n",
            "1                              2                                  87\n",
            "2                             12                                  50\n",
            "3                              9                                  71\n",
            "4                             15                                  44\n",
            "5                              6                                  56\n",
            "6                             25                                  42\n",
            "7                             16                                  60\n"
          ]
        }
      ]
    },
    {
      "cell_type": "code",
      "source": [
        "# get the covariance and variance of the independent variable i.e Driving Experience (in years)\n",
        "\n",
        "# get the mean of dependent and independent variables\n",
        "xbar = sum(train_data.loc[:,\"Driving Experience (in years)\"])/train_data.shape[0]\n",
        "ybar = sum(train_data.loc[:,\"Monthly Auto Insurance Premium ($)\"])/train_data.shape[0]\n",
        "\n",
        "# get the covariance and variance (of x variable)\n",
        "Sxy = 0\n",
        "Sxx = 0\n",
        "for i in range(train_data.shape[0]):\n",
        "  Sxy += (train_data.loc[i,\"Driving Experience (in years)\"]-xbar)*(train_data.loc[i,\"Monthly Auto Insurance Premium ($)\"]-ybar)\n",
        "  Sxx += (train_data.loc[i,\"Driving Experience (in years)\"]-xbar)**2\n",
        "\n",
        "# get the slope of line\n",
        "b1 = Sxy/Sxx\n",
        "\n",
        "# get the intercept of line\n",
        "b0 = ybar - b1 * xbar\n",
        "\n",
        "# construct the visualisation of modelling\n",
        "plt.scatter(train_data.loc[:,\"Driving Experience (in years)\"],train_data.loc[:,\"Monthly Auto Insurance Premium ($)\"], color=\"m\");\n",
        "plt.plot(train_data.loc[:,\"Driving Experience (in years)\"], b1*train_data.loc[:,\"Driving Experience (in years)\"]+b0, \"g-\");\n",
        "plt.xlabel(\"Driving Experience (in years)\");\n",
        "plt.ylabel(\"Monthly Auto Insurance Premium ($)\");\n",
        "plt.title(\"Modelling the relation between Driving Experience and Monthly Auto Insurance using a line\");"
      ],
      "metadata": {
        "colab": {
          "base_uri": "https://localhost:8080/",
          "height": 472
        },
        "id": "mbRcZiqe2yNa",
        "outputId": "579116d0-b19e-4369-ae29-05c1e36f5513"
      },
      "execution_count": 18,
      "outputs": [
        {
          "output_type": "display_data",
          "data": {
            "text/plain": [
              "<Figure size 640x480 with 1 Axes>"
            ],
            "image/png": "[encoded data removed]"
          },
          "metadata": {}
        }
      ]
    },
    {
      "cell_type": "code",
      "source": [
        "'''\n",
        "DONE: Complete Experiment 9\n",
        "'''\n",
        "\n",
        "# Experiment 9: Implementation of KNN algorithm for classification on numerical data provided\n",
        "\n",
        "data = {\n",
        "    'Name': [\"Ajay\",\"Mark\",\"Sara\",\"Zaira\",\"Sachin\",\"Rahul\",\"Pooja\",\"Smith\",\"Laxmi\",\"Michael\"],\n",
        "    'Age': [32, 40, 16, 34, 55, 40, 20, 15, 55, 15],\n",
        "    'Gender': [0, 0, 1, 1, 0, 0, 1, 0, 1, 0],\n",
        "    'Class of Sports': [\"Football\",\"Neither\",\"Cricket\",\"Cricket\",\"Neither\",\"Cricket\",\"Neither\",\"Cricket\",\"Football\",\"Football\"]\n",
        "}\n",
        "\n",
        "train_data = pd.DataFrame(data)\n",
        "\n",
        "#display training data\n",
        "print(train_data)"
      ],
      "metadata": {
        "colab": {
          "base_uri": "https://localhost:8080/"
        },
        "id": "5ycFMMg22yYx",
        "outputId": "c32b7860-b343-4c33-ba9c-7eacbe359655"
      },
      "execution_count": 19,
      "outputs": [
        {
          "output_type": "stream",
          "name": "stdout",
          "text": [
            "      Name  Age  Gender Class of Sports\n",
            "0     Ajay   32       0        Football\n",
            "1     Mark   40       0         Neither\n",
            "2     Sara   16       1         Cricket\n",
            "3    Zaira   34       1         Cricket\n",
            "4   Sachin   55       0         Neither\n",
            "5    Rahul   40       0         Cricket\n",
            "6    Pooja   20       1         Neither\n",
            "7    Smith   15       0         Cricket\n",
            "8    Laxmi   55       1        Football\n",
            "9  Michael   15       0        Football\n"
          ]
        }
      ]
    },
    {
      "cell_type": "code",
      "source": [
        "'''\n",
        "Given, k=3, predict the class of sport for Name=\"Angelina\",Age=5,Gender=1(for female, 0 for male as shown in data itself)\n",
        "'''\n",
        "import math  # import necessary library\n",
        "\n",
        "name = \"Angelina\"\n",
        "age = 5\n",
        "gender = 1\n",
        "k = 3\n",
        "list_distances = []\n",
        "for i in range(train_data.shape[0]):\n",
        "  dist = math.sqrt((train_data.loc[i,\"Age\"]-age)**2 + (train_data.loc[i,\"Gender\"]-gender)**2)\n",
        "  list_distances.append(dist)\n",
        "list_distances = np.array(list_distances)\n",
        "sorted_idx = np.argsort(list_distances)\n",
        "\n",
        "# get k nearest neighbours and indices for the test datapoint\n",
        "k_neighbours_indices = sorted_idx[:k]\n",
        "nearest_k_neighbours = list_distances[k_neighbours_indices]\n",
        "\n",
        "classes = []\n",
        "for i in k_neighbours_indices:\n",
        "  classes.append(train_data.loc[i,\"Class of Sports\"])\n",
        "\n",
        "unique_classes = set(classes)\n",
        "class_count = {}\n",
        "for i in unique_classes:\n",
        "  class_count[i] = classes.count(i)\n",
        "max_count = max(class_count.values())\n",
        "\n",
        "# get the preferred class based on majority voting by k nearest neighbours\n",
        "pref_class = list(class_count.keys())[list(class_count.values()).index(max_count)]\n",
        "\n",
        "print(\"The predicted class of sport for \"+name+\" is \"+pref_class)"
      ],
      "metadata": {
        "id": "I9bKEEob2ycO",
        "colab": {
          "base_uri": "https://localhost:8080/"
        },
        "outputId": "97365704-f877-45ca-ba2c-4675e913d0ff"
      },
      "execution_count": 20,
      "outputs": [
        {
          "output_type": "stream",
          "name": "stdout",
          "text": [
            "The predicted class of sport for Angelina is Cricket\n"
          ]
        }
      ]
    },
    {
      "cell_type": "code",
      "source": [
        "'''\n",
        "DONE (to be written in file): Experiment 10: Implement ID-3 algorithm on a given dataset. ALso, construct the decision tree\n",
        "DONE (to be written in file): Experiment 11: Implement CART algorithm on a given dataset. (using FIND-S procedure)\n",
        "for experiment 11, take our own dataset of fruits and colors, and predict fruit for a given color (take 2 features, preferably)\n",
        "'''"
      ],
      "metadata": {
        "id": "VcK8dJ9w2yfj",
        "colab": {
          "base_uri": "https://localhost:8080/",
          "height": 70
        },
        "outputId": "ae799e7d-4fa0-4f86-c6a9-a66a73138ff2"
      },
      "execution_count": 45,
      "outputs": [
        {
          "output_type": "execute_result",
          "data": {
            "text/plain": [
              "'\\nDONE (to be written in file): Experiment 10: Implement ID-3 algorithm on a given dataset. ALso, construct the decision tree\\nDONE (to be written in file): Experiment 11: Implement CART algorithm on a given dataset. (using FIND-S procedure)\\nfor experiment 11, take our own dataset of fruits and colors, and predict fruit for a given color (take 2 features, preferably)\\n'"
            ],
            "application/vnd.google.colaboratory.intrinsic+json": {
              "type": "string"
            }
          },
          "metadata": {},
          "execution_count": 45
        }
      ]
    },
    {
      "cell_type": "code",
      "source": [
        "'''\n",
        "DONE: Complete Experiment 10\n",
        "'''\n",
        "\n",
        "# Experiment 10: Implementation of ID-3 algorithm on a given dataset\n",
        "\n",
        "data = {\n",
        "    'Age': [\"Old\", \"Old\", \"Old\", \"Mid\", \"Mid\", \"Mid\", \"Mid\", \"New\", \"New\", \"New\"],\n",
        "    'Competition': [\"Yes\", \"No\", \"No\", \"Yes\", \"Yes\", \"No\", \"No\", \"Yes\", \"No\", \"No\"],\n",
        "    'Type': [\"Software\", \"Software\", \"Hardware\", \"Software\", \"Hardware\", \"Hardware\", \"Software\", \"Software\", \"Hardware\", \"Software\"],\n",
        "    'Class (profit)': [\"Down\", \"Down\", \"Down\", \"Down\", \"Down\", \"Up\", \"Up\", \"Up\", \"Up\", \"Up\"]\n",
        "}\n",
        "\n",
        "train_data = pd.DataFrame(data)\n",
        "\n",
        "#display training data\n",
        "print(train_data)"
      ],
      "metadata": {
        "colab": {
          "base_uri": "https://localhost:8080/"
        },
        "id": "0OZVArKYCP4N",
        "outputId": "de2f0e2e-80c5-43dc-e554-7bdb7ab6b5f1"
      },
      "execution_count": 46,
      "outputs": [
        {
          "output_type": "stream",
          "name": "stdout",
          "text": [
            "   Age Competition      Type Class (profit)\n",
            "0  Old         Yes  Software           Down\n",
            "1  Old          No  Software           Down\n",
            "2  Old          No  Hardware           Down\n",
            "3  Mid         Yes  Software           Down\n",
            "4  Mid         Yes  Hardware           Down\n",
            "5  Mid          No  Hardware             Up\n",
            "6  Mid          No  Software             Up\n",
            "7  New         Yes  Software             Up\n",
            "8  New          No  Hardware             Up\n",
            "9  New          No  Software             Up\n"
          ]
        }
      ]
    },
    {
      "cell_type": "code",
      "source": [
        "# implementation of decision tree using entropy based measure\n",
        "\n",
        "def determine_split_entropy(feature_stem):\n",
        "  feature_col = feature_stem.columns[0]\n",
        "  data_feat = feature_stem.loc[:,feature_col]\n",
        "  unique_data_feat = set(list(data_feat))\n",
        "  split_dict = {}\n",
        "  overall_entropy = 0.0\n",
        "  for i in unique_data_feat:\n",
        "    split_dict[i] = feature_stem[feature_stem.loc[:,feature_col]==i]\n",
        "    p = sum(split_dict[i].loc[:,\"Class (profit)\"]==\"Down\")/split_dict[i].shape[0]\n",
        "    if p!=0 and p!=1:\n",
        "      entropy_feat = -(p*log2(p)+(1-p)*log2((1-p)))\n",
        "    else:\n",
        "      entropy_feat = 0\n",
        "    prob_feat = len(split_dict[i])/feature_stem.shape[0]\n",
        "    # compute the average entropy of the child nodes based on split made\n",
        "    overall_entropy += prob_feat*entropy_feat\n",
        "  return split_dict, overall_entropy\n",
        "\n",
        "tree = {} # for empty tree\n",
        "\n",
        "def decision_tree(data, level=0):\n",
        "  # get the input features\n",
        "  input_features = list(data.columns[:-1])\n",
        "\n",
        "  # set the ID3 information gain (overall) as maximum => infinity and computing entropy for the root of dataset\n",
        "  info_gain = -np.inf\n",
        "  p1 = sum(data.loc[:,\"Class (profit)\"]==\"Down\")/data.shape[0] # for profit going down\n",
        "  p2 = 1 - p1 # for profit going up\n",
        "  if p1!=0 and p2!=0:\n",
        "    entropy = -(p1*log2(p1)+p2*log2(p2)) # overall entropy for the root node\n",
        "  else:\n",
        "    entropy=0\n",
        "  best_feature = \"\" # setting best feature giving low entropy as NULL\n",
        "  best_splitted_sets = [] # setting best feature splits giving low entropy as NULL\n",
        "  best_entropy = np.inf\n",
        "\n",
        "  # iteratively go on computing entropy and information gain for each feature\n",
        "  for i in input_features:\n",
        "    # get feature split entropy\n",
        "    split_dict, split_entropy = determine_split_entropy(data.loc[:,[i,\"Class (profit)\"]])\n",
        "    diff = (entropy - split_entropy)\n",
        "    if diff>info_gain:\n",
        "      info_gain = diff\n",
        "      best_feature = i\n",
        "      best_splitted_sets = split_dict\n",
        "      best_entropy = split_entropy\n",
        "\n",
        "  dict_idx = best_feature + \"_\" + str(level)\n",
        "\n",
        "  tree[dict_idx] = {}\n",
        "\n",
        "  # create making the trees\n",
        "  for j in set(list(data.loc[:,best_feature])):\n",
        "    dat = data[data.loc[:,best_feature]==j]\n",
        "    dat = sum(dat.loc[:,\"Class (profit)\"]==\"Down\")/len(best_splitted_sets[j])\n",
        "    idx = [] # for getting row index of feature\n",
        "    for i in data.index:\n",
        "      if data.loc[i,best_feature]==j:\n",
        "        idx.append(i)\n",
        "    x = data.loc[idx]\n",
        "    tree[dict_idx][j] = \"=>\" + str(sum(x[\"Class (profit)\"]==\"Down\")) + \" Down and =>\" + str(sum(x[\"Class (profit)\"]==\"Up\")) + \" Up\"\n",
        "    if best_entropy==0:\n",
        "      # stop from creating more splits\n",
        "      continue\n",
        "    if dat==1 or dat==0:\n",
        "      continue\n",
        "    # recursively call for a branch of decision tree\n",
        "    x = data.loc[best_splitted_sets[j].index]\n",
        "    x = x.drop(best_feature, axis=1)\n",
        "    decision_tree(x, level+1)\n",
        "\n",
        "  return tree\n",
        "\n",
        "tree = decision_tree(train_data)\n",
        "print(tree)"
      ],
      "metadata": {
        "id": "jKePuJBsVWJr",
        "colab": {
          "base_uri": "https://localhost:8080/"
        },
        "outputId": "cf195eeb-3d16-4dd8-eb33-272cecfa7e49"
      },
      "execution_count": 47,
      "outputs": [
        {
          "output_type": "stream",
          "name": "stdout",
          "text": [
            "{'Age_0': {'Mid': '=>2 Down and =>2 Up', 'Old': '=>3 Down and =>0 Up', 'New': '=>0 Down and =>3 Up'}, 'Competition_1': {'No': '=>0 Down and =>2 Up', 'Yes': '=>2 Down and =>0 Up'}}\n"
          ]
        }
      ]
    },
    {
      "cell_type": "code",
      "source": [
        "'''\n",
        "DONE: Complete Experiment 11\n",
        "'''\n",
        "\n",
        "# Experiment 11: Implement CART algorithm on a dataset\n",
        "# taking Fruit as the target variable to be predicted based on the color feature provided in the dataset\n",
        "\n",
        "train_data = {\n",
        "                'Colour' : ['Red', 'Yellow', 'Green', 'Yellow', 'Green', 'Red', 'Red', 'Yellow', 'Yellow'],\n",
        "                'Fruit' : ['Apple', 'Banana', 'Custard Apple', 'Apple', 'Custard Apple', 'Banana', 'Apple', 'Apple', 'Banana']\n",
        "             }\n",
        "\n",
        "train_data = pd.DataFrame(train_data)\n",
        "\n",
        "# implementing CART algorithm to determine the label (fruit) for the test feature i.e given color of the fruit\n",
        "test_data = 'Red'  # given, color of the fruit is red\n",
        "\n",
        "# get the labels corresponding to the test data color\n",
        "test_labels = list(train_data.loc[train_data.loc[:,'Colour']==test_data,'Fruit'])\n",
        "\n",
        "# get the most frequent label (i.e majority occuring fruit label)\n",
        "unique_labels = list(np.unique(test_labels))\n",
        "count = np.zeros(len(unique_labels))\n",
        "j = 0\n",
        "for i in unique_labels:\n",
        "  count[j] = unique_labels.count(i)\n",
        "  j += 1\n",
        "\n",
        "# get the label\n",
        "print(\"The predicted label for fruit for the given color \" + test_data + \" is \" + unique_labels[np.argmax(count)])"
      ],
      "metadata": {
        "id": "a6oFlE3lYP1-",
        "colab": {
          "base_uri": "https://localhost:8080/"
        },
        "outputId": "52a51d1b-9ca7-4425-c74f-dbad126ec6f2"
      },
      "execution_count": 48,
      "outputs": [
        {
          "output_type": "stream",
          "name": "stdout",
          "text": [
            "The predicted label for fruit for the given color Red is Apple\n"
          ]
        }
      ]
    },
    {
      "cell_type": "code",
      "source": [],
      "metadata": {
        "id": "fI7gyauec-KI"
      },
      "execution_count": 23,
      "outputs": []
    },
    {
      "cell_type": "code",
      "source": [],
      "metadata": {
        "id": "V3M0Kbo-c-Np"
      },
      "execution_count": 23,
      "outputs": []
    },
    {
      "cell_type": "code",
      "source": [],
      "metadata": {
        "id": "I7wBkyx1Kiin"
      },
      "execution_count": 23,
      "outputs": []
    }
  ],
  "metadata": {
    "colab": {
      "provenance": []
    },
    "kernelspec": {
      "display_name": "Python 3",
      "name": "python3"
    }
  },
  "nbformat": 4,
  "nbformat_minor": 0
}